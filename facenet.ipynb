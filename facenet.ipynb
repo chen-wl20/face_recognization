{
 "cells": [
  {
   "cell_type": "code",
   "execution_count": 1,
   "id": "fc0cae85",
   "metadata": {
    "scrolled": true
   },
   "outputs": [
    {
     "name": "stdout",
     "output_type": "stream",
     "text": [
      "Generating 20 triplets...\n"
     ]
    },
    {
     "name": "stderr",
     "output_type": "stream",
     "text": [
      "100%|████████████████████████████████████████████████████████████████████████████████████████████████████████████████████████████████████████████████| 20/20 [00:00<00:00, 60523.87it/s]"
     ]
    },
    {
     "name": "stdout",
     "output_type": "stream",
     "text": [
      "0 torch.Size([3, 250, 250]) torch.Size([3, 250, 250]) torch.Size([3, 250, 250]) 2107 185\n",
      "1 torch.Size([3, 250, 250]) torch.Size([3, 250, 250]) torch.Size([3, 250, 250]) 4684 3274\n",
      "2 torch.Size([3, 250, 250]) torch.Size([3, 250, 250]) torch.Size([3, 250, 250]) 300 1857\n",
      "3 torch.Size([3, 250, 250]) torch.Size([3, 250, 250]) torch.Size([3, 250, 250]) 3812 1479\n",
      "4 torch.Size([3, 250, 250]) torch.Size([3, 250, 250]) torch.Size([3, 250, 250]) 795 4929\n",
      "5 torch.Size([3, 250, 250]) torch.Size([3, 250, 250]) torch.Size([3, 250, 250]) 4877 2639\n",
      "6 torch.Size([3, 250, 250]) torch.Size([3, 250, 250]) torch.Size([3, 250, 250]) 5106 2079\n",
      "7 torch.Size([3, 250, 250]) torch.Size([3, 250, 250]) torch.Size([3, 250, 250]) 4519 2663\n",
      "8 torch.Size([3, 250, 250]) torch.Size([3, 250, 250]) torch.Size([3, 250, 250]) 3536 2829\n",
      "9 torch.Size([3, 250, 250]) torch.Size([3, 250, 250]) torch.Size([3, 250, 250]) 2355 10\n",
      "10 torch.Size([3, 250, 250]) torch.Size([3, 250, 250]) torch.Size([3, 250, 250]) 3642 4403\n",
      "11 torch.Size([3, 250, 250]) torch.Size([3, 250, 250]) torch.Size([3, 250, 250]) 3231 1078\n",
      "12 torch.Size([3, 250, 250]) torch.Size([3, 250, 250]) torch.Size([3, 250, 250]) 4850 1199\n",
      "13 torch.Size([3, 250, 250]) torch.Size([3, 250, 250]) torch.Size([3, 250, 250]) 2119 2262\n",
      "14 torch.Size([3, 250, 250]) torch.Size([3, 250, 250]) torch.Size([3, 250, 250]) 2287 4868\n",
      "15 torch.Size([3, 250, 250]) torch.Size([3, 250, 250]) torch.Size([3, 250, 250]) 2288 4837\n",
      "16 torch.Size([3, 250, 250]) torch.Size([3, 250, 250]) torch.Size([3, 250, 250]) 2797 3014\n",
      "17 torch.Size([3, 250, 250]) torch.Size([3, 250, 250]) torch.Size([3, 250, 250]) 4705 1141\n",
      "18 torch.Size([3, 250, 250]) torch.Size([3, 250, 250]) torch.Size([3, 250, 250]) 3897 1891\n",
      "19 torch.Size([3, 250, 250]) torch.Size([3, 250, 250]) torch.Size([3, 250, 250]) 1679 4917\n"
     ]
    },
    {
     "name": "stderr",
     "output_type": "stream",
     "text": [
      "\n"
     ]
    }
   ],
   "source": [
    "import torchvision.datasets as datasets\n",
    "import os \n",
    "import numpy as np\n",
    "from tqdm import tqdm\n",
    "from torchvision import transforms\n",
    "#generate triplet face dataset from folders of images\n",
    "\n",
    "class TripletFaceDataset(datasets.ImageFolder):\n",
    "    def __init__(self, dir, n_triplets, transform=None):\n",
    "        super(TripletFaceDataset, self).__init__(dir, transform)\n",
    "        self.n_triplets = n_triplets\n",
    "        print(\"Generating {} triplets...\".format(self.n_triplets))\n",
    "        self.training_triplets = self.generate_triplets(self.imgs, self.n_triplets, len(self.classes))\n",
    "    @staticmethod\n",
    "    def generate_triplets(imgs, num_triplets, n_classes):\n",
    "        def create_indices(_imgs):\n",
    "            inds = dict()\n",
    "            for idx, (img_path, label) in enumerate(_imgs):\n",
    "                if label not in inds:\n",
    "                    inds[label] = []\n",
    "                inds[label].append(img_path)\n",
    "            return inds\n",
    "        triplets = []\n",
    "        indices = create_indices(imgs)\n",
    "        for x in tqdm(range(num_triplets)):\n",
    "            c1 = np.random.randint(0, n_classes-1)\n",
    "            c2 = np.random.randint(0, n_classes-1)\n",
    "            while len(indices[c1]) < 2:\n",
    "                c1 = np.random.randint(0, n_classes-1)\n",
    "\n",
    "            while c1 == c2:\n",
    "                c2 = np.random.randint(0, n_classes-1)\n",
    "            if len(indices[c1]) == 2:  # hack to speed up process\n",
    "                n1, n2 = 0, 1\n",
    "            else:\n",
    "                n1 = np.random.randint(0, len(indices[c1]) - 1)\n",
    "                n2 = np.random.randint(0, len(indices[c1]) - 1)\n",
    "                while n1 == n2:\n",
    "                    n2 = np.random.randint(0, len(indices[c1]) - 1)\n",
    "            if len(indices[c2]) ==1:\n",
    "                n3 = 0\n",
    "            else:\n",
    "                n3 = np.random.randint(0, len(indices[c2]) - 1)\n",
    "            triplets.append([indices[c1][n1], indices[c1][n2], indices[c2][n3],c1,c2])\n",
    "        return triplets\n",
    "    def __getitem__(self, index):\n",
    "        def transform(img_path):\n",
    "            \"\"\"Convert image into numpy array and apply transformation\n",
    "               Doing this so that it is consistent with all other datasets\n",
    "               to return a PIL Image.\n",
    "            \"\"\"\n",
    "        \n",
    "            img = self.loader(img_path)\n",
    "            return self.transform(img)\n",
    "        a, p, n,c1,c2 = self.training_triplets[index]\n",
    "\n",
    "        # transform images if required\n",
    "        img_a, img_p, img_n = transform(a), transform(p), transform(n)\n",
    "        return img_a, img_p, img_n,c1,c2\n",
    "\n",
    "    def __len__(self):\n",
    "        return len(self.training_triplets)\n",
    "\n",
    "\n",
    "dir = 'gray_set'\n",
    "num_triplets = 20\n",
    "dataset = TripletFaceDataset(dir, num_triplets, transform=transforms.ToTensor())\n",
    "for step, (img_a, img_p, img_n, c1, c2) in enumerate(dataset):\n",
    "    print(step, img_a.shape, img_p.shape, img_n.shape, c1, c2)"
   ]
  },
  {
   "cell_type": "code",
   "execution_count": 2,
   "id": "486fd9dd",
   "metadata": {},
   "outputs": [
    {
     "data": {
      "text/plain": [
       "<matplotlib.image.AxesImage at 0x7fb365b91de0>"
      ]
     },
     "execution_count": 2,
     "metadata": {},
     "output_type": "execute_result"
    },
    {
     "data": {
      "image/png": "[encoded data removed]",
      "text/plain": [
       "<Figure size 640x480 with 3 Axes>"
      ]
     },
     "metadata": {},
     "output_type": "display_data"
    }
   ],
   "source": [
    "import matplotlib.pyplot as plt\n",
    "plt.subplot(1, 3, 1)\n",
    "plt.imshow(img_a.permute(1, 2, 0).numpy())\n",
    "plt.subplot(1, 3, 2)\n",
    "plt.imshow(img_p.permute(1, 2, 0).numpy())\n",
    "plt.subplot(1, 3, 3)\n",
    "plt.imshow(img_n.permute(1, 2, 0).numpy())"
   ]
  },
  {
   "cell_type": "code",
   "execution_count": 3,
   "id": "1058651a",
   "metadata": {},
   "outputs": [
    {
     "name": "stdout",
     "output_type": "stream",
     "text": [
      "Generating 20000 triplets...\n"
     ]
    },
    {
     "name": "stderr",
     "output_type": "stream",
     "text": [
      "100%|██████████████████████████████████████████████████████████████████████████████████████████████████████████████████████████████████████████| 20000/20000 [00:00<00:00, 90429.27it/s]\n"
     ]
    }
   ],
   "source": [
    "dir = 'gray_set'\n",
    "num_triplets = 20000\n",
    "dataset = TripletFaceDataset(dir, num_triplets, transform=transforms.ToTensor())"
   ]
  },
  {
   "cell_type": "code",
   "execution_count": 4,
   "id": "1fb837be",
   "metadata": {
    "scrolled": true
   },
   "outputs": [],
   "source": [
    "import torch\n",
    "from torch import nn\n",
    "\n",
    "net_front = nn.Sequential(nn.Conv2d(3, 64, (7, 7), 2, 3),\n",
    "                          nn.ReLU(),\n",
    "                          nn.AvgPool2d((3, 3), 2),\n",
    "                          nn.BatchNorm2d(64),\n",
    "                          nn.Conv2d(64, 64, (1, 1), 1, 0),\n",
    "                          nn.ReLU(),\n",
    "                          nn.Conv2d(64, 192, (3, 3), 1, 1),\n",
    "                          nn.ReLU(),\n",
    "                          nn.BatchNorm2d(192),\n",
    "                          nn.MaxPool2d((3, 3), 2),\n",
    "                          nn.Conv2d(192, 192, (1, 1), 1, 0),\n",
    "                          nn.ReLU(),\n",
    "                          nn.Conv2d(192, 384, (3, 3), 1, 1),\n",
    "                          nn.ReLU(),\n",
    "                          nn.MaxPool2d((3, 3), 2),\n",
    "                          nn.Conv2d(384, 384, (1, 1), 1, 0),\n",
    "                          nn.ReLU(),\n",
    "                          nn.Conv2d(384, 256, (3, 3), 1, 1),\n",
    "                          nn.ReLU(),\n",
    "                          nn.Conv2d(256, 256, (1, 1), 1, 0),\n",
    "                          nn.ReLU(),\n",
    "                          nn.Conv2d(256, 256, (3, 3), 1, 1),\n",
    "                          nn.ReLU(),\n",
    "                          nn.Conv2d(256, 256, (1, 1), 1, 0),\n",
    "                          nn.ReLU(),\n",
    "                          nn.Conv2d(256, 256, (3, 3), 1, 1),\n",
    "                          nn.ReLU(),\n",
    "                          nn.MaxPool2d((3, 3), 2),\n",
    "                          nn.Flatten(),\n",
    "                          nn.Linear(256*6*6, 4096),\n",
    "                          nn.ReLU(),\n",
    "                          nn.Linear(1*32*128, 1*32*128),\n",
    "                          nn.ReLU(),\n",
    "                          nn.Linear(1*32*128, 1*1*128)\n",
    ")\n"
   ]
  },
  {
   "cell_type": "code",
   "execution_count": 14,
   "id": "306c6ec9",
   "metadata": {},
   "outputs": [],
   "source": [
    "def train_output(net_front,net_output, epochs, train_datasets, test_datasets, device='cpu', lr=1e-3, optimizer='Adam', criterion='CrossEntropyLoss',margin=1.0, p=2):\n",
    "    if optimizer == 'SGD':\n",
    "        trainer = torch.optim.SGD(net_output.parameters(), lr=lr)\n",
    "    elif optimizer == 'Adam':\n",
    "        trainer = torch.optim.Adam(net_output.parameters(), lr=lr)\n",
    "\n",
    "    if criterion == 'MSELoss':\n",
    "        loss_1 = nn.MSELoss().to(device)\n",
    "    elif criterion == 'CrossEntropyLoss':\n",
    "        loss_1 = nn.CrossEntropyLoss().to(device)\n",
    "    elif criterion == 'TripletMarginLoss':\n",
    "        loss_1 = nn.TripletMarginLoss(margin=margin, p=p)\n",
    "    train_accs = []\n",
    "    test_accs = []\n",
    "    net_front.requires_grad = False\n",
    "    net_front.to(device)\n",
    "    for epoch in range(epochs):\n",
    "        net_output.to(device)\n",
    "        total = 0\n",
    "        correct = 0\n",
    "        running_loss = 0\n",
    "        train_times = 0\n",
    "        net_output.train()\n",
    "        for step, (a, b, y) in enumerate(tqdm(train_datasets)):\n",
    "            a = net_front(a.to(device))\n",
    "            b = net_front(b.to(device))\n",
    "            x = torch.cat((a, b), 1)\n",
    "            y = y.to(device)\n",
    "            #print(x, x.shape)\n",
    "            #print(x, x.shape, y, y.shape)\n",
    "            # print(torch.tensor(y, dtype=torch.long), torch.tensor(y, dtype=torch.long).shape)\n",
    "            if criterion == 'CrossEntropyLoss':\n",
    "                y_one_hot = y.squeeze().long()\n",
    "            else:\n",
    "                y_one_hot = F.one_hot(torch.tensor(y, dtype=torch.int64), 2).float().squeeze().to(device)\n",
    "            out = net_output(x)\n",
    "            #print(y_one_hot.shape)\n",
    "            # print(y_one_hot, out, y_one_hot.shape, out.shape)\n",
    "            loss = loss_1(out, y_one_hot)\n",
    "            trainer.zero_grad()\n",
    "            loss.backward()\n",
    "            trainer.step()\n",
    "            total += float(x.size(0))\n",
    "            # print(out, y, loss, out.shape, y.shape)\n",
    "            _, output = out.max(1)\n",
    "            correct += float(output.eq(y.clone().detach().squeeze()).sum())\n",
    "            running_loss += loss.item()\n",
    "            train_times += 1\n",
    "        train_accuracy = correct / total\n",
    "        train_loss = running_loss / train_times\n",
    "        train_accs.append(train_accuracy)\n",
    "        with torch.no_grad():\n",
    "            total = 0\n",
    "            correct = 0\n",
    "            for step, (a, b, y) in enumerate(tqdm(test_datasets)):\n",
    "                a = net_front(a.to(device))\n",
    "                b = net_front(b.to(device))\n",
    "                x = torch.cat((a, b), 1)\n",
    "                y = y.to(device)\n",
    "                out = net_output(x)\n",
    "                if criterion == 'CrossEntropyLoss':\n",
    "                    y_one_hot = y.squeeze().long()\n",
    "                else:\n",
    "                    y_one_hot = F.one_hot(torch.tensor(y, dtype=torch.int64), 2).float().squeeze().to(device)\n",
    "                #print(y, out, y_one_hot, y.shape, out.shape, y_one_hot.shape)\n",
    "                loss = loss_1(out, y_one_hot)\n",
    "                total += float(x.size(0))\n",
    "                _, output = out.max(1)\n",
    "                correct += float(output.eq(y.squeeze()).sum())\n",
    "                # print(out, y_one_hot, output, y.squeeze(),total,correct)\n",
    "            test_accuracy = correct / total\n",
    "            test_accs.append(test_accuracy)\n",
    "        print('epoch %d, train loss %.4f, train acc %.3f, test acc %.3f' % (epoch + 1, train_loss, train_accuracy, test_accuracy))\n",
    "    return train_accs, test_accs"
   ]
  },
  {
   "cell_type": "code",
   "execution_count": 6,
   "id": "d90e4078",
   "metadata": {},
   "outputs": [],
   "source": [
    "def plot_accs(train_accs, test_accs):\n",
    "    plt.plot(train_accs, label='train acc')\n",
    "    plt.plot(test_accs, label='test acc')\n",
    "    plt.legend()\n",
    "    plt.show()"
   ]
  },
  {
   "cell_type": "code",
   "execution_count": 7,
   "id": "a145fe35",
   "metadata": {},
   "outputs": [],
   "source": [
    "def train_triplet(net, epochs, train_datasets, device='cpu', lr=1e-3, optimizer='Adam',margin=1.0, p=2):\n",
    "    if optimizer == 'SGD':\n",
    "        trainer = torch.optim.SGD(net.parameters(), lr=lr)\n",
    "    elif optimizer == 'Adam':\n",
    "        trainer = torch.optim.Adam(net.parameters(), lr=lr)\n",
    "    loss_1 = nn.TripletMarginLoss(margin=margin, p=p)\n",
    "    losses = []\n",
    "\n",
    "    for epoch in range(epochs):\n",
    "        net.to(device)\n",
    "        total = 0\n",
    "        correct = 0\n",
    "        running_loss = 0\n",
    "        train_times = 0\n",
    "        net.train()\n",
    "        for step, (a, p, n, c1, c2) in enumerate(tqdm(train_datasets)):\n",
    "            \n",
    "            loss = loss_1(net(a.to(device)), net(p.to(device)), net(n.to(device)))\n",
    "            trainer.zero_grad()\n",
    "            loss.backward()\n",
    "            trainer.step()\n",
    "            total += float(a.size(0))\n",
    "            running_loss += loss.item()\n",
    "            train_times += 1\n",
    "        train_loss = running_loss / train_times\n",
    "        losses.append(train_loss)\n",
    "        print('epoch %d, train loss %.4f' % (epoch + 1, train_loss))\n",
    "    return losses"
   ]
  },
  {
   "cell_type": "code",
   "execution_count": 8,
   "id": "e597f7e3",
   "metadata": {},
   "outputs": [],
   "source": [
    "def plot_loss(losses):\n",
    "    plt.plot(losses, label='loss')\n",
    "    plt.legend()\n",
    "    plt.show()"
   ]
  },
  {
   "cell_type": "code",
   "execution_count": 9,
   "id": "a77356ed",
   "metadata": {},
   "outputs": [
    {
     "name": "stdout",
     "output_type": "stream",
     "text": [
      "Generating 20000 triplets...\n"
     ]
    },
    {
     "name": "stderr",
     "output_type": "stream",
     "text": [
      "100%|██████████████████████████████████████████████████████████████████████████████████████████████████████████████████████████████████████████| 20000/20000 [00:00<00:00, 75920.02it/s]\n"
     ]
    }
   ],
   "source": [
    "dir = 'gray_set'\n",
    "num_triplets = 20000\n",
    "dataset = TripletFaceDataset(dir, num_triplets, transform=transforms.ToTensor())\n",
    "dataloader = torch.utils.data.DataLoader(dataset,batch_size=256, shuffle=True)"
   ]
  },
  {
   "cell_type": "code",
   "execution_count": 11,
   "id": "ab8d1f06",
   "metadata": {
    "scrolled": true
   },
   "outputs": [
    {
     "name": "stderr",
     "output_type": "stream",
     "text": [
      "100%|███████████████████████████████████████████████████████████████████████████████████████████████████████████████████████████████████████████████████| 79/79 [01:41<00:00,  1.29s/it]\n"
     ]
    },
    {
     "name": "stdout",
     "output_type": "stream",
     "text": [
      "epoch 1, train loss 1.0080\n"
     ]
    },
    {
     "name": "stderr",
     "output_type": "stream",
     "text": [
      "100%|███████████████████████████████████████████████████████████████████████████████████████████████████████████████████████████████████████████████████| 79/79 [01:41<00:00,  1.29s/it]\n"
     ]
    },
    {
     "name": "stdout",
     "output_type": "stream",
     "text": [
      "epoch 2, train loss 0.6369\n"
     ]
    },
    {
     "name": "stderr",
     "output_type": "stream",
     "text": [
      "100%|███████████████████████████████████████████████████████████████████████████████████████████████████████████████████████████████████████████████████| 79/79 [01:41<00:00,  1.29s/it]\n"
     ]
    },
    {
     "name": "stdout",
     "output_type": "stream",
     "text": [
      "epoch 3, train loss 0.5017\n"
     ]
    },
    {
     "name": "stderr",
     "output_type": "stream",
     "text": [
      "100%|███████████████████████████████████████████████████████████████████████████████████████████████████████████████████████████████████████████████████| 79/79 [01:42<00:00,  1.29s/it]\n"
     ]
    },
    {
     "name": "stdout",
     "output_type": "stream",
     "text": [
      "epoch 4, train loss 0.4424\n"
     ]
    },
    {
     "name": "stderr",
     "output_type": "stream",
     "text": [
      "100%|███████████████████████████████████████████████████████████████████████████████████████████████████████████████████████████████████████████████████| 79/79 [01:42<00:00,  1.29s/it]"
     ]
    },
    {
     "name": "stdout",
     "output_type": "stream",
     "text": [
      "epoch 5, train loss 0.3828\n"
     ]
    },
    {
     "name": "stderr",
     "output_type": "stream",
     "text": [
      "\n"
     ]
    }
   ],
   "source": [
    "train_loss = train_triplet(net_front, 5, dataloader, device='cuda:0')"
   ]
  },
  {
   "cell_type": "code",
   "execution_count": 12,
   "id": "f8f316a2",
   "metadata": {},
   "outputs": [
    {
     "data": {
      "image/png": "[encoded data removed]",
      "text/plain": [
       "<Figure size 640x480 with 1 Axes>"
      ]
     },
     "metadata": {},
     "output_type": "display_data"
    }
   ],
   "source": [
    "plot_loss(train_loss)"
   ]
  },
  {
   "cell_type": "code",
   "execution_count": 13,
   "id": "e1af9f02",
   "metadata": {
    "scrolled": true
   },
   "outputs": [],
   "source": [
    "#import pdb\n",
    "#pdb.set_trace()\n",
    "model_dir = './facenet'\n",
    "if not os.path.exists(model_dir):\n",
    "    os.makedirs(model_dir)\n",
    "#print(net.device)\n",
    "torch.save(net_front.state_dict(), os.path.abspath('margin1_epoch5.pkl'))"
   ]
  },
  {
   "cell_type": "code",
   "execution_count": 14,
   "id": "be5d4d27",
   "metadata": {},
   "outputs": [
    {
     "name": "stderr",
     "output_type": "stream",
     "text": [
      "100%|███████████████████████████████████████████████████████████████████████████████████████████████████████████████████████████████████████████████████| 79/79 [01:41<00:00,  1.28s/it]\n"
     ]
    },
    {
     "name": "stdout",
     "output_type": "stream",
     "text": [
      "epoch 1, train loss 0.1850\n"
     ]
    },
    {
     "name": "stderr",
     "output_type": "stream",
     "text": [
      "100%|███████████████████████████████████████████████████████████████████████████████████████████████████████████████████████████████████████████████████| 79/79 [01:41<00:00,  1.28s/it]\n"
     ]
    },
    {
     "name": "stdout",
     "output_type": "stream",
     "text": [
      "epoch 2, train loss 0.1511\n"
     ]
    },
    {
     "name": "stderr",
     "output_type": "stream",
     "text": [
      "100%|███████████████████████████████████████████████████████████████████████████████████████████████████████████████████████████████████████████████████| 79/79 [01:41<00:00,  1.28s/it]\n"
     ]
    },
    {
     "name": "stdout",
     "output_type": "stream",
     "text": [
      "epoch 3, train loss 0.1313\n"
     ]
    },
    {
     "name": "stderr",
     "output_type": "stream",
     "text": [
      "100%|███████████████████████████████████████████████████████████████████████████████████████████████████████████████████████████████████████████████████| 79/79 [01:41<00:00,  1.29s/it]\n"
     ]
    },
    {
     "name": "stdout",
     "output_type": "stream",
     "text": [
      "epoch 4, train loss 0.1204\n"
     ]
    },
    {
     "name": "stderr",
     "output_type": "stream",
     "text": [
      "100%|███████████████████████████████████████████████████████████████████████████████████████████████████████████████████████████████████████████████████| 79/79 [01:41<00:00,  1.28s/it]"
     ]
    },
    {
     "name": "stdout",
     "output_type": "stream",
     "text": [
      "epoch 5, train loss 0.1023\n"
     ]
    },
    {
     "name": "stderr",
     "output_type": "stream",
     "text": [
      "\n"
     ]
    }
   ],
   "source": [
    "train_loss = train_triplet(net_front, 5, dataloader, device='cuda:0', margin=0.5, p=2)"
   ]
  },
  {
   "cell_type": "code",
   "execution_count": 15,
   "id": "a1ddcf75",
   "metadata": {},
   "outputs": [
    {
     "data": {
      "image/png": "[encoded data removed]",
      "text/plain": [
       "<Figure size 640x480 with 1 Axes>"
      ]
     },
     "metadata": {},
     "output_type": "display_data"
    }
   ],
   "source": [
    "plot_loss(train_loss)"
   ]
  },
  {
   "cell_type": "code",
   "execution_count": 16,
   "id": "1a0c4448",
   "metadata": {},
   "outputs": [],
   "source": [
    "#import pdb\n",
    "#pdb.set_trace()\n",
    "model_dir = './facenet'\n",
    "if not os.path.exists(model_dir):\n",
    "    os.makedirs(model_dir)\n",
    "#print(net.device)\n",
    "torch.save(net_front.state_dict(), os.path.abspath('margin0.5_epoch5.pkl'))"
   ]
  },
  {
   "cell_type": "code",
   "execution_count": 20,
   "id": "e2f7da45",
   "metadata": {},
   "outputs": [],
   "source": [
    "net_output = nn.Sequential(nn.Linear(128*2, 256*2),\n",
    "                          nn.ReLU(),\n",
    "                          nn.Linear(256*2, 256*2),\n",
    "                          nn.ReLU(),\n",
    "                          nn.Linear(256*2, 128),\n",
    "                          nn.ReLU(),\n",
    "                          nn.Linear(128, 64),\n",
    "                          nn.ReLU(),\n",
    "                          nn.Linear(64, 16),\n",
    "                          nn.ReLU(),\n",
    "                          nn.Linear(16, 2))"
   ]
  },
  {
   "cell_type": "code",
   "execution_count": 21,
   "id": "693b7c4a",
   "metadata": {},
   "outputs": [],
   "source": [
    "net_front.load_state_dict(torch.load(os.path.abspath('margin0.5_epoch5.pkl')))\n",
    "net_front.requires_grad = False"
   ]
  },
  {
   "cell_type": "code",
   "execution_count": 18,
   "id": "3f30baf0",
   "metadata": {},
   "outputs": [],
   "source": [
    "class Pairs_Dataset(datasets.ImageFolder):\n",
    "    def __init__(self, dir, n_pairs, transform=None):\n",
    "        super(Pairs_Dataset, self).__init__(dir, transform)\n",
    "        self.n_pairs = n_pairs\n",
    "        print(\"Generating{} pairs...\".format(self.n_pairs))\n",
    "        self.training_pairs = self.generate_pairs(self.imgs, self.n_pairs, len(self.classes))\n",
    "    @staticmethod\n",
    "    def generate_pairs(imgs, num_pairs, n_classes):\n",
    "        def create_indices(_imgs):\n",
    "            inds = dict()\n",
    "            for idx, (img_path, label) in enumerate(_imgs):\n",
    "                if label not in inds:\n",
    "                    inds[label] = []\n",
    "                inds[label].append(img_path)\n",
    "            return inds\n",
    "        pairs = []\n",
    "        indices = create_indices(imgs)\n",
    "        for x in tqdm(range(num_pairs)):\n",
    "            if x<num_pairs/2:\n",
    "                c1 = np.random.randint(0, n_classes-1)\n",
    "                while len(indices[c1])<2:\n",
    "                    c1=np.random.randint(0, n_classes-1)\n",
    "                c2 = c1\n",
    "                if len(indices[c1])==2:\n",
    "                    n1 = 0\n",
    "                    n2 = 1\n",
    "                else:\n",
    "                    n1 = np.random.randint(0, len(indices[c1])-1)\n",
    "                    n2 = np.random.randint(0, len(indices[c2])-1)\n",
    "                    while n2==n1:\n",
    "                        n2 = np.random.randint(0, len(indices[c2])-1)\n",
    "            else:\n",
    "                c1 = np.random.randint(0, n_classes-1)\n",
    "                c2 = np.random.randint(0, n_classes-1)\n",
    "                while c1==c2:\n",
    "                    c2 = np.random.randint(0, n_classes-1)\n",
    "                if len(indices[c1])==1:\n",
    "                    n1 = 0\n",
    "                else:\n",
    "                    n1 = np.random.randint(0, len(indices[c1])-1)\n",
    "                if len(indices[c2])==1:\n",
    "                    n2 = 0\n",
    "                else:\n",
    "                    n2 = np.random.randint(0, len(indices[c2])-1)\n",
    "                \n",
    "            pairs.append([indices[c1][n1], indices[c2][n2], (c1==c2)])\n",
    "        return pairs\n",
    "    def __getitem__(self, index):\n",
    "        def transform(img_path):\n",
    "            img = self.loader(img_path)\n",
    "            return self.transform(img)\n",
    "        a, b, is_same = self.training_pairs[index]\n",
    "        img_a, img_b = transform(a), transform(b)\n",
    "        return img_a, img_b, is_same\n",
    "    def __len__(self):\n",
    "        return len(self.training_pairs)"
   ]
  },
  {
   "cell_type": "code",
   "execution_count": 22,
   "id": "c00ba3ff",
   "metadata": {},
   "outputs": [
    {
     "name": "stdout",
     "output_type": "stream",
     "text": [
      "Generating20000 pairs...\n"
     ]
    },
    {
     "name": "stderr",
     "output_type": "stream",
     "text": [
      "100%|█████████████████████████████████████████████████████████████████████████████████████████████████████████████████████████████████████████| 20000/20000 [00:00<00:00, 140638.97it/s]\n"
     ]
    },
    {
     "name": "stdout",
     "output_type": "stream",
     "text": [
      "Generating2000 pairs...\n"
     ]
    },
    {
     "name": "stderr",
     "output_type": "stream",
     "text": [
      "100%|███████████████████████████████████████████████████████████████████████████████████████████████████████████████████████████████████████████| 2000/2000 [00:00<00:00, 125388.38it/s]\n"
     ]
    }
   ],
   "source": [
    "dir = 'gray_set'\n",
    "num_triplets = 20000\n",
    "dataset_pairs = Pairs_Dataset(dir, num_triplets, transform=transforms.ToTensor())\n",
    "dataloader = torch.utils.data.DataLoader(dataset_pairs,batch_size=256, shuffle=True)\n",
    "dataset_test = Pairs_Dataset(dir, int(num_triplets/10), transform=transforms.ToTensor())\n",
    "dataloader_test = torch.utils.data.DataLoader(dataset_pairs,batch_size=256, shuffle=True)"
   ]
  },
  {
   "cell_type": "code",
   "execution_count": 23,
   "id": "3a4cbd89",
   "metadata": {
    "scrolled": true
   },
   "outputs": [
    {
     "name": "stderr",
     "output_type": "stream",
     "text": [
      "100%|███████████████████████████████████████████████████████████████████████████████████████████████████████████████████████████████████████████████████| 79/79 [01:06<00:00,  1.18it/s]\n",
      "100%|███████████████████████████████████████████████████████████████████████████████████████████████████████████████████████████████████████████████████| 79/79 [00:48<00:00,  1.64it/s]\n"
     ]
    },
    {
     "name": "stdout",
     "output_type": "stream",
     "text": [
      "epoch 1, train loss 0.6424, train acc 0.604, test acc 0.757\n"
     ]
    },
    {
     "name": "stderr",
     "output_type": "stream",
     "text": [
      "100%|███████████████████████████████████████████████████████████████████████████████████████████████████████████████████████████████████████████████████| 79/79 [01:07<00:00,  1.18it/s]\n",
      "100%|███████████████████████████████████████████████████████████████████████████████████████████████████████████████████████████████████████████████████| 79/79 [00:48<00:00,  1.64it/s]\n"
     ]
    },
    {
     "name": "stdout",
     "output_type": "stream",
     "text": [
      "epoch 2, train loss 0.4308, train acc 0.807, test acc 0.822\n"
     ]
    },
    {
     "name": "stderr",
     "output_type": "stream",
     "text": [
      "100%|███████████████████████████████████████████████████████████████████████████████████████████████████████████████████████████████████████████████████| 79/79 [01:07<00:00,  1.18it/s]\n",
      "100%|███████████████████████████████████████████████████████████████████████████████████████████████████████████████████████████████████████████████████| 79/79 [00:48<00:00,  1.65it/s]\n"
     ]
    },
    {
     "name": "stdout",
     "output_type": "stream",
     "text": [
      "epoch 3, train loss 0.3966, train acc 0.827, test acc 0.817\n"
     ]
    },
    {
     "name": "stderr",
     "output_type": "stream",
     "text": [
      "100%|███████████████████████████████████████████████████████████████████████████████████████████████████████████████████████████████████████████████████| 79/79 [01:06<00:00,  1.18it/s]\n",
      "100%|███████████████████████████████████████████████████████████████████████████████████████████████████████████████████████████████████████████████████| 79/79 [00:47<00:00,  1.68it/s]\n"
     ]
    },
    {
     "name": "stdout",
     "output_type": "stream",
     "text": [
      "epoch 4, train loss 0.3860, train acc 0.831, test acc 0.772\n"
     ]
    },
    {
     "name": "stderr",
     "output_type": "stream",
     "text": [
      "100%|███████████████████████████████████████████████████████████████████████████████████████████████████████████████████████████████████████████████████| 79/79 [01:07<00:00,  1.18it/s]\n",
      "100%|███████████████████████████████████████████████████████████████████████████████████████████████████████████████████████████████████████████████████| 79/79 [00:48<00:00,  1.64it/s]"
     ]
    },
    {
     "name": "stdout",
     "output_type": "stream",
     "text": [
      "epoch 5, train loss 0.3937, train acc 0.828, test acc 0.828\n"
     ]
    },
    {
     "name": "stderr",
     "output_type": "stream",
     "text": [
      "\n"
     ]
    }
   ],
   "source": [
    "train_accs1, test_accs1 = train_output(net_front,net_output, epochs=5, train_datasets=dataloader, test_datasets=dataloader_test, device='cuda:0', lr=1e-3)"
   ]
  },
  {
   "cell_type": "code",
   "execution_count": 38,
   "id": "3ec70b06",
   "metadata": {},
   "outputs": [],
   "source": [
    "#import pdb\n",
    "#pdb.set_trace()\n",
    "torch.save(net_output.state_dict(), os.path.abspath('output_epoch5.pkl'))"
   ]
  },
  {
   "cell_type": "code",
   "execution_count": 25,
   "id": "3652b0a9",
   "metadata": {},
   "outputs": [
    {
     "name": "stdout",
     "output_type": "stream",
     "text": [
      "Generating20000 pairs...\n"
     ]
    },
    {
     "name": "stderr",
     "output_type": "stream",
     "text": [
      "100%|██████████████████████████████████████████████████████████████████████████████████████████████████████████████████████████████████████████| 20000/20000 [00:00<00:00, 82981.09it/s]\n"
     ]
    },
    {
     "name": "stdout",
     "output_type": "stream",
     "text": [
      "Generating2000 pairs...\n"
     ]
    },
    {
     "name": "stderr",
     "output_type": "stream",
     "text": [
      "100%|████████████████████████████████████████████████████████████████████████████████████████████████████████████████████████████████████████████| 2000/2000 [00:00<00:00, 97134.22it/s]\n"
     ]
    }
   ],
   "source": [
    "dir = 'gray_set'\n",
    "num_triplets = 20000\n",
    "dataset_pairs = Pairs_Dataset(dir, num_triplets, transform=transforms.ToTensor())\n",
    "dataloader = torch.utils.data.DataLoader(dataset_pairs,batch_size=256, shuffle=True)\n",
    "dataset_test = Pairs_Dataset(dir, int(num_triplets/10), transform=transforms.ToTensor())\n",
    "dataloader_test = torch.utils.data.DataLoader(dataset_pairs,batch_size=256, shuffle=True)"
   ]
  },
  {
   "cell_type": "code",
   "execution_count": 26,
   "id": "6cbf309e",
   "metadata": {
    "scrolled": true
   },
   "outputs": [
    {
     "name": "stderr",
     "output_type": "stream",
     "text": [
      "100%|███████████████████████████████████████████████████████████████████████████████████████████████████████████████████████████████████████████████████| 79/79 [01:06<00:00,  1.19it/s]\n",
      "100%|███████████████████████████████████████████████████████████████████████████████████████████████████████████████████████████████████████████████████| 79/79 [00:47<00:00,  1.66it/s]\n"
     ]
    },
    {
     "name": "stdout",
     "output_type": "stream",
     "text": [
      "epoch 1, train loss 0.3975, train acc 0.827, test acc 0.841\n"
     ]
    },
    {
     "name": "stderr",
     "output_type": "stream",
     "text": [
      "100%|███████████████████████████████████████████████████████████████████████████████████████████████████████████████████████████████████████████████████| 79/79 [01:06<00:00,  1.19it/s]\n",
      "100%|███████████████████████████████████████████████████████████████████████████████████████████████████████████████████████████████████████████████████| 79/79 [00:47<00:00,  1.67it/s]\n"
     ]
    },
    {
     "name": "stdout",
     "output_type": "stream",
     "text": [
      "epoch 2, train loss 0.3787, train acc 0.836, test acc 0.833\n"
     ]
    },
    {
     "name": "stderr",
     "output_type": "stream",
     "text": [
      "100%|███████████████████████████████████████████████████████████████████████████████████████████████████████████████████████████████████████████████████| 79/79 [01:06<00:00,  1.18it/s]\n",
      "100%|███████████████████████████████████████████████████████████████████████████████████████████████████████████████████████████████████████████████████| 79/79 [00:47<00:00,  1.67it/s]\n"
     ]
    },
    {
     "name": "stdout",
     "output_type": "stream",
     "text": [
      "epoch 3, train loss 0.3823, train acc 0.833, test acc 0.827\n"
     ]
    },
    {
     "name": "stderr",
     "output_type": "stream",
     "text": [
      "100%|███████████████████████████████████████████████████████████████████████████████████████████████████████████████████████████████████████████████████| 79/79 [01:06<00:00,  1.19it/s]\n",
      "100%|███████████████████████████████████████████████████████████████████████████████████████████████████████████████████████████████████████████████████| 79/79 [00:47<00:00,  1.66it/s]\n"
     ]
    },
    {
     "name": "stdout",
     "output_type": "stream",
     "text": [
      "epoch 4, train loss 0.3795, train acc 0.835, test acc 0.837\n"
     ]
    },
    {
     "name": "stderr",
     "output_type": "stream",
     "text": [
      "100%|███████████████████████████████████████████████████████████████████████████████████████████████████████████████████████████████████████████████████| 79/79 [01:06<00:00,  1.18it/s]\n",
      "100%|███████████████████████████████████████████████████████████████████████████████████████████████████████████████████████████████████████████████████| 79/79 [00:47<00:00,  1.66it/s]"
     ]
    },
    {
     "name": "stdout",
     "output_type": "stream",
     "text": [
      "epoch 5, train loss 0.3758, train acc 0.835, test acc 0.838\n"
     ]
    },
    {
     "name": "stderr",
     "output_type": "stream",
     "text": [
      "\n"
     ]
    }
   ],
   "source": [
    "train_accs1, test_accs1 = train_output(net_front,net_output, epochs=5, train_datasets=dataloader, test_datasets=dataloader_test, device='cuda:0', lr=1e-3)"
   ]
  },
  {
   "cell_type": "code",
   "execution_count": 39,
   "id": "71356ce1",
   "metadata": {},
   "outputs": [],
   "source": [
    "torch.save(net_output.state_dict(), os.path.abspath('output_epoch10.pkl'))"
   ]
  },
  {
   "cell_type": "code",
   "execution_count": 40,
   "id": "64026199",
   "metadata": {},
   "outputs": [],
   "source": [
    "import utils\n"
   ]
  },
  {
   "cell_type": "code",
   "execution_count": 50,
   "id": "9e0c5601",
   "metadata": {},
   "outputs": [],
   "source": [
    "def predict(imga, imgb):\n",
    "    a = torch.tensor([utils.face_alignment(imga, is_gray=False)]).permute(0, 3, 1, 2).float()\n",
    "    b = torch.tensor([utils.face_alignment(imgb, is_gray=False)]).permute(0, 3, 1, 2).float()\n",
    "    net1 = net_front\n",
    "    net1.load_state_dict(torch.load(os.path.abspath('margin0.5_epoch5.pkl')))\n",
    "    net1.requires_grad = False\n",
    "    net1.to('cpu')\n",
    "    net2 = net_output\n",
    "    net2.load_state_dict(torch.load(os.path.abspath('output_epoch10.pkl')))\n",
    "    net2.requires_grad = False\n",
    "    net2.to('cpu')\n",
    "    a = net1(a)\n",
    "    b = net1(b)\n",
    "    x = torch.cat((a, b), 1)\n",
    "    out = net2(x)\n",
    "    _, output = out.max(1)\n",
    "    return output\n",
    "    "
   ]
  },
  {
   "cell_type": "code",
   "execution_count": 51,
   "id": "f5aeb349",
   "metadata": {},
   "outputs": [],
   "source": [
    "import cv2\n",
    "for i in range(600):\n",
    "        A = cv2.imread('../../data/test_pair/{}/A.jpg'.format(str(i)))\n",
    "        B = cv2.imread('../../data/test_pair/{}/B.jpg'.format(str(i)))\n",
    "        out = predict(A, B)\n",
    "        fp = open('result_facenet.txt', 'a')\n",
    "        if out==1:\n",
    "            fp.write('1\\n')\n",
    "        else:\n",
    "            fp.write('0\\n')\n",
    "        fp.close()"
   ]
  },
  {
   "cell_type": "code",
   "execution_count": null,
   "id": "09cbb13d",
   "metadata": {},
   "outputs": [],
   "source": []
  }
 ],
 "metadata": {
  "kernelspec": {
   "display_name": "Python 3 (ipykernel)",
   "language": "python",
   "name": "python3"
  },
  "language_info": {
   "codemirror_mode": {
    "name": "ipython",
    "version": 3
   },
   "file_extension": ".py",
   "mimetype": "text/x-python",
   "name": "python",
   "nbconvert_exporter": "python",
   "pygments_lexer": "ipython3",
   "version": "3.8.8"
  },
  "vscode": {
   "interpreter": {
    "hash": "ec53feb9152f03c8ff0dc507c85e24d726f1c3f60655ce6f56590ec65d23c82a"
   }
  }
 },
 "nbformat": 4,
 "nbformat_minor": 5
}
